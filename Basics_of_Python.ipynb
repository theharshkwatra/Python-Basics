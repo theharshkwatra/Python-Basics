{
  "nbformat": 4,
  "nbformat_minor": 0,
  "metadata": {
    "colab": {
      "provenance": [],
      "authorship_tag": "ABX9TyNCbZf+A6JW+D5nbkRQiWgC",
      "include_colab_link": true
    },
    "kernelspec": {
      "name": "python3",
      "display_name": "Python 3"
    },
    "language_info": {
      "name": "python"
    }
  },
  "cells": [
    {
      "cell_type": "markdown",
      "metadata": {
        "id": "view-in-github",
        "colab_type": "text"
      },
      "source": [
        "<a href=\"https://colab.research.google.com/github/theharshkwatra/Python-Basics/blob/main/Basics_of_Python.ipynb\" target=\"_parent\"><img src=\"https://colab.research.google.com/assets/colab-badge.svg\" alt=\"Open In Colab\"/></a>"
      ]
    },
    {
      "cell_type": "markdown",
      "source": [
        "**Assignment-01 (Python Assignment Basics)**\n",
        "\n",
        "---\n",
        "\n"
      ],
      "metadata": {
        "id": "YpAhn1C4zHRJ"
      }
    },
    {
      "cell_type": "markdown",
      "source": [
        "\n",
        "\n",
        "1.   Ques 1.\n",
        "\n"
      ],
      "metadata": {
        "id": "cad24h-jzjCu"
      }
    },
    {
      "cell_type": "code",
      "execution_count": null,
      "metadata": {
        "colab": {
          "base_uri": "https://localhost:8080/"
        },
        "id": "WS7g_-izuDS7",
        "outputId": "f788d010-cba6-4ad7-ca11-b54481c4f808"
      },
      "outputs": [
        {
          "output_type": "stream",
          "name": "stdout",
          "text": [
            "[11, 12, 13, 14, 50, 60]\n"
          ]
        }
      ],
      "source": [
        "L = [11, 12, 13, 14]\n",
        "L.append(50)\n",
        "L.append(60)\n",
        "print(L)"
      ]
    },
    {
      "cell_type": "code",
      "source": [
        "del L[0]\n",
        "print(L)\n",
        "del L[1]\n",
        "print(L)"
      ],
      "metadata": {
        "colab": {
          "base_uri": "https://localhost:8080/"
        },
        "id": "SIG-SbMczYQT",
        "outputId": "ffaafac0-a71c-4016-ec7e-ce6c3f43b797"
      },
      "execution_count": null,
      "outputs": [
        {
          "output_type": "stream",
          "name": "stdout",
          "text": [
            "[12, 13, 14, 50, 60]\n",
            "[12, 14, 50, 60]\n"
          ]
        }
      ]
    },
    {
      "cell_type": "code",
      "source": [
        "L.sort()\n",
        "print(L)"
      ],
      "metadata": {
        "colab": {
          "base_uri": "https://localhost:8080/"
        },
        "id": "300jv5Zx09lF",
        "outputId": "275ddcbe-3f87-4df3-d59c-4afd09a0ac4b"
      },
      "execution_count": null,
      "outputs": [
        {
          "output_type": "stream",
          "name": "stdout",
          "text": [
            "[12, 14, 50, 60]\n"
          ]
        }
      ]
    },
    {
      "cell_type": "code",
      "source": [
        "L.sort(reverse = True)\n",
        "print(L)"
      ],
      "metadata": {
        "colab": {
          "base_uri": "https://localhost:8080/"
        },
        "id": "9R3EVO2I1J0k",
        "outputId": "7bf0652d-4a97-46bf-9375-b008094808e8"
      },
      "execution_count": null,
      "outputs": [
        {
          "output_type": "stream",
          "name": "stdout",
          "text": [
            "[60, 50, 14, 12]\n"
          ]
        }
      ]
    },
    {
      "cell_type": "code",
      "source": [
        "if 13 in L:\n",
        "  print(\"13 is present in L\")\n",
        "else:\n",
        "  print(\"13 is not present in L\")\n",
        "\n",
        "# Alternative\n",
        "\n",
        "print(\"13 in L: \", 13 in L)"
      ],
      "metadata": {
        "colab": {
          "base_uri": "https://localhost:8080/"
        },
        "id": "A3V2fTS21vGX",
        "outputId": "c6fbc82a-f8fb-4705-8e97-96c76f8daa60"
      },
      "execution_count": null,
      "outputs": [
        {
          "output_type": "stream",
          "name": "stdout",
          "text": [
            "13 is not present in L\n",
            "13 in L:  False\n"
          ]
        }
      ]
    },
    {
      "cell_type": "code",
      "source": [
        "print(\"Number of elements present in L: \", len(L))"
      ],
      "metadata": {
        "colab": {
          "base_uri": "https://localhost:8080/"
        },
        "id": "vjRyAi-a2bn0",
        "outputId": "cde52a58-4692-46b3-cbc9-822a185d91c8"
      },
      "execution_count": null,
      "outputs": [
        {
          "output_type": "stream",
          "name": "stdout",
          "text": [
            "Number of elements present in L:  4\n"
          ]
        }
      ]
    },
    {
      "cell_type": "code",
      "source": [
        "s = 0\n",
        "for i in range(0,len(L)):\n",
        "  s = s + L[i]\n",
        "print(s)"
      ],
      "metadata": {
        "colab": {
          "base_uri": "https://localhost:8080/"
        },
        "id": "2feK1GnZ2rVa",
        "outputId": "cf33aeca-2e94-4c98-a2cd-8f366a092851"
      },
      "execution_count": null,
      "outputs": [
        {
          "output_type": "stream",
          "name": "stdout",
          "text": [
            "136\n"
          ]
        }
      ]
    },
    {
      "cell_type": "code",
      "source": [
        "print(L)\n",
        "even_sum = 0\n",
        "odd_sum = 0\n",
        "for i in range(0,len(L)):\n",
        "  if L[i] % 2 == 0:\n",
        "    even_sum = even_sum + L[i]\n",
        "  else:\n",
        "    odd_sum = odd_sum + L[i]\n",
        "print(even_sum)\n",
        "print(odd_sum)"
      ],
      "metadata": {
        "colab": {
          "base_uri": "https://localhost:8080/"
        },
        "id": "lPinZGyF5jLz",
        "outputId": "d94599d3-4f88-44e0-84e8-df0f9dceda46"
      },
      "execution_count": null,
      "outputs": [
        {
          "output_type": "stream",
          "name": "stdout",
          "text": [
            "[60, 50, 14, 12]\n",
            "136\n",
            "0\n"
          ]
        }
      ]
    },
    {
      "cell_type": "code",
      "source": [
        "prime_sum = 0\n",
        "for i in range(0,len(L)):\n",
        "  for j in range(2, L[i]//2 + 1):\n",
        "      if L[i] % j == 0:\n",
        "        break\n",
        "      else:\n",
        "        prime_sum = prime_sum + L[i]\n",
        "\n",
        "print(prime_sum)"
      ],
      "metadata": {
        "colab": {
          "base_uri": "https://localhost:8080/"
        },
        "id": "G20tHbk46cAz",
        "outputId": "73806703-6e03-434c-cc6d-03d7f9268b72"
      },
      "execution_count": null,
      "outputs": [
        {
          "output_type": "stream",
          "name": "stdout",
          "text": [
            "0\n"
          ]
        }
      ]
    },
    {
      "cell_type": "code",
      "source": [
        "L.clear()\n",
        "print(L)"
      ],
      "metadata": {
        "colab": {
          "base_uri": "https://localhost:8080/"
        },
        "id": "OVeGsf3n8v2Q",
        "outputId": "e8d467bf-def1-49c4-87a1-1c0092b02218"
      },
      "execution_count": null,
      "outputs": [
        {
          "output_type": "stream",
          "name": "stdout",
          "text": [
            "[]\n"
          ]
        }
      ]
    },
    {
      "cell_type": "code",
      "source": [
        "del L\n",
        "print(L)  # Error"
      ],
      "metadata": {
        "colab": {
          "base_uri": "https://localhost:8080/",
          "height": 158
        },
        "id": "r54NLCKl82ho",
        "outputId": "880b8212-2ed6-4dc4-cfdb-65459569523b"
      },
      "execution_count": null,
      "outputs": [
        {
          "output_type": "error",
          "ename": "NameError",
          "evalue": "name 'L' is not defined",
          "traceback": [
            "\u001b[0;31m---------------------------------------------------------------------------\u001b[0m",
            "\u001b[0;31mNameError\u001b[0m                                 Traceback (most recent call last)",
            "\u001b[0;32m<ipython-input-39-a090824c5da0>\u001b[0m in \u001b[0;36m<cell line: 2>\u001b[0;34m()\u001b[0m\n\u001b[1;32m      1\u001b[0m \u001b[0;32mdel\u001b[0m \u001b[0mL\u001b[0m\u001b[0;34m\u001b[0m\u001b[0;34m\u001b[0m\u001b[0m\n\u001b[0;32m----> 2\u001b[0;31m \u001b[0mprint\u001b[0m\u001b[0;34m(\u001b[0m\u001b[0mL\u001b[0m\u001b[0;34m)\u001b[0m\u001b[0;34m\u001b[0m\u001b[0;34m\u001b[0m\u001b[0m\n\u001b[0m",
            "\u001b[0;31mNameError\u001b[0m: name 'L' is not defined"
          ]
        }
      ]
    },
    {
      "cell_type": "markdown",
      "source": [
        "\n",
        "2.   Ques 2."
      ],
      "metadata": {
        "id": "xK-EEUzB893g"
      }
    },
    {
      "cell_type": "code",
      "source": [
        "D = {1:5.6, 2:7.8, 3:6.6, 4:8.7, 5:7.7}\n",
        "print(D)"
      ],
      "metadata": {
        "colab": {
          "base_uri": "https://localhost:8080/"
        },
        "id": "oe8p1H6d9GDN",
        "outputId": "e5d0a2de-27a7-442d-b5b1-a01159ffc39a"
      },
      "execution_count": null,
      "outputs": [
        {
          "output_type": "stream",
          "name": "stdout",
          "text": [
            "{1: 5.6, 2: 7.8, 3: 6.6, 4: 8.7, 5: 7.7}\n"
          ]
        }
      ]
    },
    {
      "cell_type": "code",
      "source": [
        "D[8] = 8.8\n",
        "print(D)"
      ],
      "metadata": {
        "colab": {
          "base_uri": "https://localhost:8080/"
        },
        "id": "TYHAcG4M9XFh",
        "outputId": "939769fc-07a5-4eb6-e30b-d9b623887145"
      },
      "execution_count": null,
      "outputs": [
        {
          "output_type": "stream",
          "name": "stdout",
          "text": [
            "{1: 5.6, 2: 7.8, 3: 6.6, 4: 8.7, 5: 7.7, 8: 8.8}\n"
          ]
        }
      ]
    },
    {
      "cell_type": "code",
      "source": [
        "del D[2]\n",
        "print(D)"
      ],
      "metadata": {
        "colab": {
          "base_uri": "https://localhost:8080/"
        },
        "id": "gjaJ3RFr93Pl",
        "outputId": "66cb8117-72c4-490b-fade-212025eb745d"
      },
      "execution_count": null,
      "outputs": [
        {
          "output_type": "stream",
          "name": "stdout",
          "text": [
            "{1: 5.6, 3: 6.6, 4: 8.7, 5: 7.7, 8: 8.8}\n"
          ]
        }
      ]
    },
    {
      "cell_type": "code",
      "source": [
        "if 6 in D:\n",
        "  print(\"6 is present in D\")\n",
        "else:\n",
        "  print(\"6 is not present in D\")"
      ],
      "metadata": {
        "colab": {
          "base_uri": "https://localhost:8080/"
        },
        "id": "TgXZYy35-IfF",
        "outputId": "ea4f6d98-48eb-4155-afd3-b8fedfd69769"
      },
      "execution_count": null,
      "outputs": [
        {
          "output_type": "stream",
          "name": "stdout",
          "text": [
            "6 is not present in D\n"
          ]
        }
      ]
    },
    {
      "cell_type": "code",
      "source": [
        "print(\"Number of elements present in D: \", len(D))"
      ],
      "metadata": {
        "colab": {
          "base_uri": "https://localhost:8080/"
        },
        "id": "J5m3GJCh-cSw",
        "outputId": "f12c91ea-549d-4a18-f581-6e1a6e1fae93"
      },
      "execution_count": null,
      "outputs": [
        {
          "output_type": "stream",
          "name": "stdout",
          "text": [
            "Number of elements present in D:  5\n"
          ]
        }
      ]
    },
    {
      "cell_type": "code",
      "source": [
        "dic_sum = 0\n",
        "for i in D:\n",
        "  dic_sum = dic_sum + D[i]\n",
        "print(dic_sum)"
      ],
      "metadata": {
        "colab": {
          "base_uri": "https://localhost:8080/"
        },
        "id": "Swnu_KlB-jGE",
        "outputId": "1f997bab-b5d2-4bb9-b4f8-fb7c10b185d8"
      },
      "execution_count": null,
      "outputs": [
        {
          "output_type": "stream",
          "name": "stdout",
          "text": [
            "37.4\n"
          ]
        }
      ]
    },
    {
      "cell_type": "code",
      "source": [
        "D[3] = 7.1\n",
        "print(D)"
      ],
      "metadata": {
        "colab": {
          "base_uri": "https://localhost:8080/"
        },
        "id": "SxqKj3ut_jGi",
        "outputId": "18cb06ec-7d9d-4104-84b7-4c5927db1767"
      },
      "execution_count": null,
      "outputs": [
        {
          "output_type": "stream",
          "name": "stdout",
          "text": [
            "{1: 5.6, 3: 7.1, 4: 8.7, 5: 7.7, 8: 8.8}\n"
          ]
        }
      ]
    },
    {
      "cell_type": "code",
      "source": [
        "D.clear()\n",
        "print(D)"
      ],
      "metadata": {
        "colab": {
          "base_uri": "https://localhost:8080/"
        },
        "id": "bziYm6a4AG96",
        "outputId": "fc0823d2-322f-4acf-f27e-398b20c64b0b"
      },
      "execution_count": null,
      "outputs": [
        {
          "output_type": "stream",
          "name": "stdout",
          "text": [
            "{}\n"
          ]
        }
      ]
    },
    {
      "cell_type": "markdown",
      "source": [
        "3. Ques 3."
      ],
      "metadata": {
        "id": "QOuJPsngANyq"
      }
    },
    {
      "cell_type": "code",
      "source": [
        "S1 = {10, 20, 30, 40, 50, 60}\n",
        "S2 = {40, 50, 60, 70, 80, 90}\n",
        "print(type(S1))\n",
        "print(type(S2))"
      ],
      "metadata": {
        "colab": {
          "base_uri": "https://localhost:8080/"
        },
        "id": "x2yLMsD0AVpc",
        "outputId": "871a4a6a-5a2a-459b-ac97-f105b57f88e5"
      },
      "execution_count": null,
      "outputs": [
        {
          "output_type": "stream",
          "name": "stdout",
          "text": [
            "<class 'set'>\n",
            "<class 'set'>\n"
          ]
        }
      ]
    },
    {
      "cell_type": "code",
      "source": [
        "S1.add(55)\n",
        "print(S1)\n",
        "S1.add(66)\n",
        "print(S1)"
      ],
      "metadata": {
        "colab": {
          "base_uri": "https://localhost:8080/"
        },
        "id": "6QoGnFsWAkyG",
        "outputId": "bcf9bfcc-465d-452a-aedf-86adef27b0d5"
      },
      "execution_count": null,
      "outputs": [
        {
          "output_type": "stream",
          "name": "stdout",
          "text": [
            "{50, 20, 55, 40, 10, 60, 30}\n",
            "{50, 66, 20, 55, 40, 10, 60, 30}\n"
          ]
        }
      ]
    },
    {
      "cell_type": "code",
      "source": [
        "S1.remove(10)\n",
        "print(S1)\n",
        "S1.remove(30)\n",
        "print(S1)"
      ],
      "metadata": {
        "colab": {
          "base_uri": "https://localhost:8080/"
        },
        "id": "q5Z35AKzB2aC",
        "outputId": "2e34ef59-df49-4970-d2f1-d582c1830306"
      },
      "execution_count": null,
      "outputs": [
        {
          "output_type": "stream",
          "name": "stdout",
          "text": [
            "{50, 66, 20, 55, 40, 60, 30}\n",
            "{50, 66, 20, 55, 40, 60}\n"
          ]
        }
      ]
    },
    {
      "cell_type": "code",
      "source": [
        "if 40 in S1:\n",
        "  print(\"40 is present in S1\")\n",
        "else:\n",
        "  print(\"40 is not present in S1\")"
      ],
      "metadata": {
        "colab": {
          "base_uri": "https://localhost:8080/"
        },
        "id": "fNZwnb-TB9FS",
        "outputId": "940b0a72-a21f-4bb2-b00a-483354dd7a8b"
      },
      "execution_count": null,
      "outputs": [
        {
          "output_type": "stream",
          "name": "stdout",
          "text": [
            "40 is present in S1\n"
          ]
        }
      ]
    },
    {
      "cell_type": "code",
      "source": [
        "print(S1.union(S2))"
      ],
      "metadata": {
        "colab": {
          "base_uri": "https://localhost:8080/"
        },
        "id": "YRLkM-7bCVN-",
        "outputId": "d6511726-b109-4c8b-bfc0-fbb4157074d1"
      },
      "execution_count": null,
      "outputs": [
        {
          "output_type": "stream",
          "name": "stdout",
          "text": [
            "{66, 70, 40, 80, 50, 20, 55, 90, 60}\n"
          ]
        }
      ]
    },
    {
      "cell_type": "code",
      "source": [
        "print(S1.intersection(S2))"
      ],
      "metadata": {
        "colab": {
          "base_uri": "https://localhost:8080/"
        },
        "id": "aBql39WWC2Ip",
        "outputId": "cf458d66-5c53-4f58-9d0f-f726c8f9f36e"
      },
      "execution_count": null,
      "outputs": [
        {
          "output_type": "stream",
          "name": "stdout",
          "text": [
            "{40, 50, 60}\n"
          ]
        }
      ]
    },
    {
      "cell_type": "code",
      "source": [
        "print(S1 - S2)\n",
        "\n",
        "# Alternative\n",
        "\n",
        "print(S1.difference(S2))"
      ],
      "metadata": {
        "colab": {
          "base_uri": "https://localhost:8080/"
        },
        "id": "XyzqFvNQC-Yf",
        "outputId": "6122e69d-2fa4-4f25-ae16-d94e7b4201c7"
      },
      "execution_count": null,
      "outputs": [
        {
          "output_type": "stream",
          "name": "stdout",
          "text": [
            "{66, 20, 55}\n",
            "{66, 20, 55}\n"
          ]
        }
      ]
    },
    {
      "cell_type": "markdown",
      "source": [
        "4. Ques 4.\n"
      ],
      "metadata": {
        "id": "ktqn0yyzDQqJ"
      }
    },
    {
      "cell_type": "code",
      "source": [
        "import random as r\n",
        "import string as s\n",
        "for i in range(0,101):\n",
        "  k = r.randint(6, 8)\n",
        "  str = r.sample(s.ascii_letters, k)\n",
        "  str_updated = \"\".join(str)\n",
        "  print(str_updated)"
      ],
      "metadata": {
        "colab": {
          "base_uri": "https://localhost:8080/"
        },
        "id": "XTTTwkbtDWdM",
        "outputId": "42bc8a3d-0b37-4100-8ad3-496c29bb5e44"
      },
      "execution_count": null,
      "outputs": [
        {
          "output_type": "stream",
          "name": "stdout",
          "text": [
            "xlICuJQ\n",
            "pbxFmzXS\n",
            "iCBQVcz\n",
            "MmDuWsv\n",
            "njelIyup\n",
            "kQfEAnJ\n",
            "wNSEUzO\n",
            "GEvxfLn\n",
            "emuznAJ\n",
            "kMgRBE\n",
            "qTXFxrsC\n",
            "wMTDriBR\n",
            "sapMUKN\n",
            "YiLEIg\n",
            "hjZEaN\n",
            "UkSLyONH\n",
            "oKVnWMet\n",
            "GiJsOfaL\n",
            "ZXPlqx\n",
            "puWwtRQ\n",
            "JSCtuB\n",
            "qwGXSurI\n",
            "SDVfBE\n",
            "dFjnlSIt\n",
            "kTBLWZ\n",
            "TmYnzCwc\n",
            "MJWCQFI\n",
            "AdbFfB\n",
            "NZRhogm\n",
            "eJudnSPc\n",
            "JMmnvgI\n",
            "kMiJTOQ\n",
            "NUHOXkM\n",
            "LtZgQeK\n",
            "mcWMpU\n",
            "xJFmLvg\n",
            "kDhqcPN\n",
            "KfZNOgSV\n",
            "lgKkGnq\n",
            "sIfAiH\n",
            "ktCduJ\n",
            "jLKvWg\n",
            "LopSIlTg\n",
            "EeNpIMGd\n",
            "rNYevn\n",
            "loqxWjFg\n",
            "dfDKlUqS\n",
            "LlxnKzB\n",
            "sWNiDrj\n",
            "ewOSdc\n",
            "MRuIPyTH\n",
            "SLxvFwCG\n",
            "wSXYhLV\n",
            "KlWQpZ\n",
            "jVBbZzaW\n",
            "LcyAGtQ\n",
            "NbDATkc\n",
            "UJxYPLD\n",
            "QLMPFIEB\n",
            "YIdJLoG\n",
            "VnCRISqP\n",
            "YnBoCP\n",
            "REJYCTeq\n",
            "ZkEjKCF\n",
            "vdHeuVA\n",
            "ChDbGmN\n",
            "aqyWRN\n",
            "FgMQkdf\n",
            "wlYcXxo\n",
            "shUBuIj\n",
            "NZFVMbQ\n",
            "dRAWNxO\n",
            "NvnEXG\n",
            "hqxATgj\n",
            "CvQYJwA\n",
            "crZztsS\n",
            "tENdcm\n",
            "iehrXKL\n",
            "gFjzbhqO\n",
            "eEqgClp\n",
            "kvIzTlS\n",
            "gnRWax\n",
            "dEzNKc\n",
            "dopONVzH\n",
            "YsxJdA\n",
            "zHxQBqS\n",
            "QUTZISP\n",
            "QfVIpoNA\n",
            "rNTasxD\n",
            "fTVXwi\n",
            "DNAXlR\n",
            "vtlDnsX\n",
            "zsUhmwMC\n",
            "uZMdGgT\n",
            "nPKYzJ\n",
            "wEcmtr\n",
            "MADdvL\n",
            "iIpJKOeo\n",
            "qSFxUBKl\n",
            "uGzyTa\n",
            "rkBLzbOV\n"
          ]
        }
      ]
    },
    {
      "cell_type": "markdown",
      "source": [
        "**Important Concept (change f = 0 again)**"
      ],
      "metadata": {
        "id": "IBs8YI18g_3v"
      }
    },
    {
      "cell_type": "code",
      "source": [
        "for j in range(601, 800):\n",
        "  f = 0\n",
        "  for i in range(2, j//2 + 1):\n",
        "    if j % i == 0:\n",
        "      f = 1\n",
        "      break\n",
        "\n",
        "  if f == 0:\n",
        "    print(j)\n",
        ""
      ],
      "metadata": {
        "colab": {
          "base_uri": "https://localhost:8080/"
        },
        "id": "vzpsXs12FMiB",
        "outputId": "3e8389fd-5f94-4f3c-8e7c-c819857c29fd"
      },
      "execution_count": 6,
      "outputs": [
        {
          "output_type": "stream",
          "name": "stdout",
          "text": [
            "601\n",
            "607\n",
            "613\n",
            "617\n",
            "619\n",
            "631\n",
            "641\n",
            "643\n",
            "647\n",
            "653\n",
            "659\n",
            "661\n",
            "673\n",
            "677\n",
            "683\n",
            "691\n",
            "701\n",
            "709\n",
            "719\n",
            "727\n",
            "733\n",
            "739\n",
            "743\n",
            "751\n",
            "757\n",
            "761\n",
            "769\n",
            "773\n",
            "787\n",
            "797\n"
          ]
        }
      ]
    },
    {
      "cell_type": "code",
      "source": [
        "for i in range(101,1000):\n",
        "  if i % 7 == 0 and i % 9 == 0:\n",
        "    print(i)"
      ],
      "metadata": {
        "id": "dFtKqpNMGsk9",
        "outputId": "6dbfa901-84de-4885-c88c-03dca1d2c977",
        "colab": {
          "base_uri": "https://localhost:8080/"
        }
      },
      "execution_count": 8,
      "outputs": [
        {
          "output_type": "stream",
          "name": "stdout",
          "text": [
            "126\n",
            "189\n",
            "252\n",
            "315\n",
            "378\n",
            "441\n",
            "504\n",
            "567\n",
            "630\n",
            "693\n",
            "756\n",
            "819\n",
            "882\n",
            "945\n"
          ]
        }
      ]
    },
    {
      "cell_type": "markdown",
      "source": [
        "5. Ques 5."
      ],
      "metadata": {
        "id": "NBM0eK_ZihPL"
      }
    },
    {
      "cell_type": "code",
      "source": [
        "import random as r\n",
        "L1 = [r.randint(10,30) for i in range(0,10)]\n",
        "print(L1)"
      ],
      "metadata": {
        "id": "HJ4jTbG1in9K",
        "outputId": "517ab20b-fd97-404a-cfb9-e3415db194c1",
        "colab": {
          "base_uri": "https://localhost:8080/"
        }
      },
      "execution_count": 12,
      "outputs": [
        {
          "output_type": "stream",
          "name": "stdout",
          "text": [
            "[27, 22, 23, 18, 19, 29, 16, 19, 24, 25]\n"
          ]
        }
      ]
    }
  ]
}