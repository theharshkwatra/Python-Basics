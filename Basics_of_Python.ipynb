{
  "nbformat": 4,
  "nbformat_minor": 0,
  "metadata": {
    "colab": {
      "provenance": [],
      "authorship_tag": "ABX9TyOa7/oCSZzF5VRLx7hokUXV",
      "include_colab_link": true
    },
    "kernelspec": {
      "name": "python3",
      "display_name": "Python 3"
    },
    "language_info": {
      "name": "python"
    }
  },
  "cells": [
    {
      "cell_type": "markdown",
      "metadata": {
        "id": "view-in-github",
        "colab_type": "text"
      },
      "source": [
        "<a href=\"https://colab.research.google.com/github/theharshkwatra/Python-Basics/blob/main/Basics_of_Python.ipynb\" target=\"_parent\"><img src=\"https://colab.research.google.com/assets/colab-badge.svg\" alt=\"Open In Colab\"/></a>"
      ]
    },
    {
      "cell_type": "markdown",
      "source": [
        "**Assignment-01 (Python Assignment Basics)**\n",
        "\n",
        "---\n",
        "\n"
      ],
      "metadata": {
        "id": "YpAhn1C4zHRJ"
      }
    },
    {
      "cell_type": "markdown",
      "source": [
        "\n",
        "\n",
        "1.   Ques 1.\n",
        "\n"
      ],
      "metadata": {
        "id": "cad24h-jzjCu"
      }
    },
    {
      "cell_type": "code",
      "execution_count": 3,
      "metadata": {
        "colab": {
          "base_uri": "https://localhost:8080/"
        },
        "id": "WS7g_-izuDS7",
        "outputId": "7ceff87a-bc70-495d-cd31-986b98f00b04"
      },
      "outputs": [
        {
          "output_type": "stream",
          "name": "stdout",
          "text": [
            "[11, 12, 13, 14, 50, 60]\n"
          ]
        }
      ],
      "source": [
        "L = [11, 12, 13, 14]\n",
        "L.append(50)\n",
        "L.append(60)\n",
        "print(L)"
      ]
    },
    {
      "cell_type": "code",
      "source": [
        "del L[0]\n",
        "print(L)\n",
        "del L[1]\n",
        "print(L)"
      ],
      "metadata": {
        "colab": {
          "base_uri": "https://localhost:8080/"
        },
        "id": "SIG-SbMczYQT",
        "outputId": "1d52b337-aa41-4ed0-cbf5-a105cc655607"
      },
      "execution_count": 4,
      "outputs": [
        {
          "output_type": "stream",
          "name": "stdout",
          "text": [
            "[12, 13, 14, 50, 60]\n",
            "[12, 14, 50, 60]\n"
          ]
        }
      ]
    },
    {
      "cell_type": "code",
      "source": [
        "L.sort()\n",
        "print(L)"
      ],
      "metadata": {
        "colab": {
          "base_uri": "https://localhost:8080/"
        },
        "id": "300jv5Zx09lF",
        "outputId": "3213c58f-f3d9-499e-c956-c1edbc659dc4"
      },
      "execution_count": 5,
      "outputs": [
        {
          "output_type": "stream",
          "name": "stdout",
          "text": [
            "[12, 14, 50, 60]\n"
          ]
        }
      ]
    },
    {
      "cell_type": "code",
      "source": [
        "L.sort(reverse = True)\n",
        "print(L)"
      ],
      "metadata": {
        "colab": {
          "base_uri": "https://localhost:8080/"
        },
        "id": "9R3EVO2I1J0k",
        "outputId": "11cd867d-73d7-4754-e1d9-785ca2846eaa"
      },
      "execution_count": 6,
      "outputs": [
        {
          "output_type": "stream",
          "name": "stdout",
          "text": [
            "[60, 50, 14, 12]\n"
          ]
        }
      ]
    },
    {
      "cell_type": "code",
      "source": [
        "if 13 in L:\n",
        "  print(\"13 is present in L\")\n",
        "else:\n",
        "  print(\"13 is not present in L\")\n",
        "\n",
        "# Alternative\n",
        "\n",
        "print(\"13 in L: \", 13 in L)"
      ],
      "metadata": {
        "colab": {
          "base_uri": "https://localhost:8080/"
        },
        "id": "A3V2fTS21vGX",
        "outputId": "d1d43dea-f2f0-4a8e-fb68-71d9d26e8dda"
      },
      "execution_count": 7,
      "outputs": [
        {
          "output_type": "stream",
          "name": "stdout",
          "text": [
            "13 is not present in L\n",
            "13 in L:  False\n"
          ]
        }
      ]
    },
    {
      "cell_type": "code",
      "source": [
        "print(\"Number of elements present in L: \", len(L))"
      ],
      "metadata": {
        "colab": {
          "base_uri": "https://localhost:8080/"
        },
        "id": "vjRyAi-a2bn0",
        "outputId": "545c882d-3a6a-40e3-8fd9-dcf3c62bcd18"
      },
      "execution_count": 8,
      "outputs": [
        {
          "output_type": "stream",
          "name": "stdout",
          "text": [
            "Number of elements present in L:  4\n"
          ]
        }
      ]
    },
    {
      "cell_type": "code",
      "source": [
        "s = 0\n",
        "for i in range(0,len(L)):\n",
        "  s = s + L[i]\n",
        "print(s)"
      ],
      "metadata": {
        "colab": {
          "base_uri": "https://localhost:8080/"
        },
        "id": "2feK1GnZ2rVa",
        "outputId": "caddf066-c125-4c27-b165-9974e5f83111"
      },
      "execution_count": 9,
      "outputs": [
        {
          "output_type": "stream",
          "name": "stdout",
          "text": [
            "136\n"
          ]
        }
      ]
    },
    {
      "cell_type": "code",
      "source": [
        "print(L)\n",
        "even_sum = 0\n",
        "odd_sum = 0\n",
        "for i in range(0,len(L)):\n",
        "  if L[i] % 2 == 0:\n",
        "    even_sum = even_sum + L[i]\n",
        "  else:\n",
        "    odd_sum = odd_sum + L[i]\n",
        "print(even_sum)\n",
        "print(odd_sum)"
      ],
      "metadata": {
        "colab": {
          "base_uri": "https://localhost:8080/"
        },
        "id": "lPinZGyF5jLz",
        "outputId": "2471c64a-4aa2-449f-9fa5-773fbbe4870b"
      },
      "execution_count": 10,
      "outputs": [
        {
          "output_type": "stream",
          "name": "stdout",
          "text": [
            "[60, 50, 14, 12]\n",
            "136\n",
            "0\n"
          ]
        }
      ]
    },
    {
      "cell_type": "code",
      "source": [
        "prime_sum = 0\n",
        "for i in range(0,len(L)):\n",
        "  for j in range(2, L[i]//2 + 1):\n",
        "      if L[i] % j == 0:\n",
        "        break\n",
        "      else:\n",
        "        prime_sum = prime_sum + L[i]\n",
        "\n",
        "print(prime_sum)"
      ],
      "metadata": {
        "colab": {
          "base_uri": "https://localhost:8080/"
        },
        "id": "G20tHbk46cAz",
        "outputId": "dd4a709a-1c2e-49dc-fa2b-85a18ef11180"
      },
      "execution_count": 11,
      "outputs": [
        {
          "output_type": "stream",
          "name": "stdout",
          "text": [
            "0\n"
          ]
        }
      ]
    },
    {
      "cell_type": "code",
      "source": [
        "L.clear()\n",
        "print(L)"
      ],
      "metadata": {
        "colab": {
          "base_uri": "https://localhost:8080/"
        },
        "id": "OVeGsf3n8v2Q",
        "outputId": "834fb999-bfda-4cf0-a50d-aeff5bc5687f"
      },
      "execution_count": 12,
      "outputs": [
        {
          "output_type": "stream",
          "name": "stdout",
          "text": [
            "[]\n"
          ]
        }
      ]
    },
    {
      "cell_type": "code",
      "source": [
        "del L\n",
        "print(L)  # Error"
      ],
      "metadata": {
        "colab": {
          "base_uri": "https://localhost:8080/",
          "height": 159
        },
        "id": "r54NLCKl82ho",
        "outputId": "8feabbff-5097-4fce-9ec1-4fc022e2fe9b"
      },
      "execution_count": 13,
      "outputs": [
        {
          "output_type": "error",
          "ename": "NameError",
          "evalue": "name 'L' is not defined",
          "traceback": [
            "\u001b[0;31m---------------------------------------------------------------------------\u001b[0m",
            "\u001b[0;31mNameError\u001b[0m                                 Traceback (most recent call last)",
            "\u001b[0;32m<ipython-input-13-63fd98417b28>\u001b[0m in \u001b[0;36m<cell line: 2>\u001b[0;34m()\u001b[0m\n\u001b[1;32m      1\u001b[0m \u001b[0;32mdel\u001b[0m \u001b[0mL\u001b[0m\u001b[0;34m\u001b[0m\u001b[0;34m\u001b[0m\u001b[0m\n\u001b[0;32m----> 2\u001b[0;31m \u001b[0mprint\u001b[0m\u001b[0;34m(\u001b[0m\u001b[0mL\u001b[0m\u001b[0;34m)\u001b[0m  \u001b[0;31m# Error\u001b[0m\u001b[0;34m\u001b[0m\u001b[0;34m\u001b[0m\u001b[0m\n\u001b[0m",
            "\u001b[0;31mNameError\u001b[0m: name 'L' is not defined"
          ]
        }
      ]
    },
    {
      "cell_type": "markdown",
      "source": [
        "\n",
        "2.   Ques 2."
      ],
      "metadata": {
        "id": "xK-EEUzB893g"
      }
    },
    {
      "cell_type": "code",
      "source": [
        "D = {1:5.6, 2:7.8, 3:6.6, 4:8.7, 5:7.7}\n",
        "print(D)"
      ],
      "metadata": {
        "colab": {
          "base_uri": "https://localhost:8080/"
        },
        "id": "oe8p1H6d9GDN",
        "outputId": "eb1c360b-2f2f-44eb-f53c-b218516ab0d2"
      },
      "execution_count": 14,
      "outputs": [
        {
          "output_type": "stream",
          "name": "stdout",
          "text": [
            "{1: 5.6, 2: 7.8, 3: 6.6, 4: 8.7, 5: 7.7}\n"
          ]
        }
      ]
    },
    {
      "cell_type": "code",
      "source": [
        "D[8] = 8.8\n",
        "print(D)"
      ],
      "metadata": {
        "colab": {
          "base_uri": "https://localhost:8080/"
        },
        "id": "TYHAcG4M9XFh",
        "outputId": "caf641e2-74de-4bc8-92da-101701a698ff"
      },
      "execution_count": 15,
      "outputs": [
        {
          "output_type": "stream",
          "name": "stdout",
          "text": [
            "{1: 5.6, 2: 7.8, 3: 6.6, 4: 8.7, 5: 7.7, 8: 8.8}\n"
          ]
        }
      ]
    },
    {
      "cell_type": "code",
      "source": [
        "del D[2]\n",
        "print(D)"
      ],
      "metadata": {
        "colab": {
          "base_uri": "https://localhost:8080/"
        },
        "id": "gjaJ3RFr93Pl",
        "outputId": "5d5fef10-98b0-4d57-d563-e0acbfe113f7"
      },
      "execution_count": 16,
      "outputs": [
        {
          "output_type": "stream",
          "name": "stdout",
          "text": [
            "{1: 5.6, 3: 6.6, 4: 8.7, 5: 7.7, 8: 8.8}\n"
          ]
        }
      ]
    },
    {
      "cell_type": "code",
      "source": [
        "if 6 in D:\n",
        "  print(\"6 is present in D\")\n",
        "else:\n",
        "  print(\"6 is not present in D\")"
      ],
      "metadata": {
        "colab": {
          "base_uri": "https://localhost:8080/"
        },
        "id": "TgXZYy35-IfF",
        "outputId": "b7de793c-9b8c-4daf-fde1-0414eea5d324"
      },
      "execution_count": 17,
      "outputs": [
        {
          "output_type": "stream",
          "name": "stdout",
          "text": [
            "6 is not present in D\n"
          ]
        }
      ]
    },
    {
      "cell_type": "code",
      "source": [
        "print(\"Number of elements present in D: \", len(D))"
      ],
      "metadata": {
        "colab": {
          "base_uri": "https://localhost:8080/"
        },
        "id": "J5m3GJCh-cSw",
        "outputId": "9ced2fe8-2dfe-466f-bac5-86bf177a570c"
      },
      "execution_count": 18,
      "outputs": [
        {
          "output_type": "stream",
          "name": "stdout",
          "text": [
            "Number of elements present in D:  5\n"
          ]
        }
      ]
    },
    {
      "cell_type": "code",
      "source": [
        "dic_sum = 0\n",
        "for i in D:\n",
        "  dic_sum = dic_sum + D[i]\n",
        "print(dic_sum)"
      ],
      "metadata": {
        "colab": {
          "base_uri": "https://localhost:8080/"
        },
        "id": "Swnu_KlB-jGE",
        "outputId": "20c27ced-fe4c-459e-9783-c49237c36829"
      },
      "execution_count": 19,
      "outputs": [
        {
          "output_type": "stream",
          "name": "stdout",
          "text": [
            "37.4\n"
          ]
        }
      ]
    },
    {
      "cell_type": "code",
      "source": [
        "D[3] = 7.1\n",
        "print(D)"
      ],
      "metadata": {
        "colab": {
          "base_uri": "https://localhost:8080/"
        },
        "id": "SxqKj3ut_jGi",
        "outputId": "fb09bf27-933f-46ec-81f5-d7171087c7ae"
      },
      "execution_count": 20,
      "outputs": [
        {
          "output_type": "stream",
          "name": "stdout",
          "text": [
            "{1: 5.6, 3: 7.1, 4: 8.7, 5: 7.7, 8: 8.8}\n"
          ]
        }
      ]
    },
    {
      "cell_type": "code",
      "source": [
        "D.clear()\n",
        "print(D)"
      ],
      "metadata": {
        "colab": {
          "base_uri": "https://localhost:8080/"
        },
        "id": "bziYm6a4AG96",
        "outputId": "a1c35985-2190-43b0-f6c3-312811c07025"
      },
      "execution_count": 21,
      "outputs": [
        {
          "output_type": "stream",
          "name": "stdout",
          "text": [
            "{}\n"
          ]
        }
      ]
    },
    {
      "cell_type": "markdown",
      "source": [
        "3. Ques 3."
      ],
      "metadata": {
        "id": "QOuJPsngANyq"
      }
    },
    {
      "cell_type": "code",
      "source": [
        "S1 = {10, 20, 30, 40, 50, 60}\n",
        "S2 = {40, 50, 60, 70, 80, 90}\n",
        "print(type(S1))\n",
        "print(type(S2))"
      ],
      "metadata": {
        "colab": {
          "base_uri": "https://localhost:8080/"
        },
        "id": "x2yLMsD0AVpc",
        "outputId": "aa1c0631-627c-4067-dd5f-1c9e74587f02"
      },
      "execution_count": 22,
      "outputs": [
        {
          "output_type": "stream",
          "name": "stdout",
          "text": [
            "<class 'set'>\n",
            "<class 'set'>\n"
          ]
        }
      ]
    },
    {
      "cell_type": "code",
      "source": [
        "S1.add(55)\n",
        "print(S1)\n",
        "S1.add(66)\n",
        "print(S1)"
      ],
      "metadata": {
        "colab": {
          "base_uri": "https://localhost:8080/"
        },
        "id": "6QoGnFsWAkyG",
        "outputId": "c8df1271-1842-4225-99c8-c96fe57d2ddf"
      },
      "execution_count": 23,
      "outputs": [
        {
          "output_type": "stream",
          "name": "stdout",
          "text": [
            "{50, 20, 55, 40, 10, 60, 30}\n",
            "{50, 66, 20, 55, 40, 10, 60, 30}\n"
          ]
        }
      ]
    },
    {
      "cell_type": "code",
      "source": [
        "S1.remove(10)\n",
        "print(S1)\n",
        "S1.remove(30)\n",
        "print(S1)"
      ],
      "metadata": {
        "colab": {
          "base_uri": "https://localhost:8080/"
        },
        "id": "q5Z35AKzB2aC",
        "outputId": "17c0c6e0-a44d-4db9-c9ec-044160b596ec"
      },
      "execution_count": 24,
      "outputs": [
        {
          "output_type": "stream",
          "name": "stdout",
          "text": [
            "{50, 66, 20, 55, 40, 60, 30}\n",
            "{50, 66, 20, 55, 40, 60}\n"
          ]
        }
      ]
    },
    {
      "cell_type": "code",
      "source": [
        "if 40 in S1:\n",
        "  print(\"40 is present in S1\")\n",
        "else:\n",
        "  print(\"40 is not present in S1\")"
      ],
      "metadata": {
        "colab": {
          "base_uri": "https://localhost:8080/"
        },
        "id": "fNZwnb-TB9FS",
        "outputId": "a72fe152-d2a4-49e7-94d2-b9a814c8a3d9"
      },
      "execution_count": 25,
      "outputs": [
        {
          "output_type": "stream",
          "name": "stdout",
          "text": [
            "40 is present in S1\n"
          ]
        }
      ]
    },
    {
      "cell_type": "code",
      "source": [
        "print(S1.union(S2))"
      ],
      "metadata": {
        "colab": {
          "base_uri": "https://localhost:8080/"
        },
        "id": "YRLkM-7bCVN-",
        "outputId": "36c4e32f-0ed9-45a6-8334-847e37d1b9cf"
      },
      "execution_count": 26,
      "outputs": [
        {
          "output_type": "stream",
          "name": "stdout",
          "text": [
            "{66, 70, 40, 80, 50, 20, 55, 90, 60}\n"
          ]
        }
      ]
    },
    {
      "cell_type": "code",
      "source": [
        "print(S1.intersection(S2))"
      ],
      "metadata": {
        "colab": {
          "base_uri": "https://localhost:8080/"
        },
        "id": "aBql39WWC2Ip",
        "outputId": "cab18b82-47bb-4f10-beee-2903648225f3"
      },
      "execution_count": 27,
      "outputs": [
        {
          "output_type": "stream",
          "name": "stdout",
          "text": [
            "{40, 50, 60}\n"
          ]
        }
      ]
    },
    {
      "cell_type": "code",
      "source": [
        "print(S1 - S2)\n",
        "\n",
        "# Alternative\n",
        "\n",
        "print(S1.difference(S2))"
      ],
      "metadata": {
        "colab": {
          "base_uri": "https://localhost:8080/"
        },
        "id": "XyzqFvNQC-Yf",
        "outputId": "9b79b4a8-109a-4d24-90cb-b0b7d3839171"
      },
      "execution_count": 28,
      "outputs": [
        {
          "output_type": "stream",
          "name": "stdout",
          "text": [
            "{66, 20, 55}\n",
            "{66, 20, 55}\n"
          ]
        }
      ]
    },
    {
      "cell_type": "markdown",
      "source": [
        "4. Ques 4.\n"
      ],
      "metadata": {
        "id": "ktqn0yyzDQqJ"
      }
    },
    {
      "cell_type": "code",
      "source": [
        "import random as r\n",
        "import uing as s\n",
        "for i in range(0,101):\n",
        "  k = r.randint(6, 8)\n",
        "  a = r.sample(s.ascii_letters, k)\n",
        "  a_updated = \"\".join(a)\n",
        "  print(a_updated)"
      ],
      "metadata": {
        "colab": {
          "base_uri": "https://localhost:8080/"
        },
        "id": "XTTTwkbtDWdM",
        "outputId": "3b7145a6-99dd-4b23-aa47-be731a3434dc"
      },
      "execution_count": 90,
      "outputs": [
        {
          "output_type": "stream",
          "name": "stdout",
          "text": [
            "CrTiUnq\n",
            "qgswiL\n",
            "vukQoXre\n",
            "NDFMfVO\n",
            "OLVuCW\n",
            "KDclEfg\n",
            "GbBocxI\n",
            "KmNPfj\n",
            "YvOXZhw\n",
            "AZVIlU\n",
            "iWthUcZ\n",
            "kqOlQhZ\n",
            "VNtfLH\n",
            "DHjkzNwU\n",
            "BDqYXK\n",
            "MhUXgpmR\n",
            "mqCiUS\n",
            "wpoFDI\n",
            "rVIfMd\n",
            "qNGLRSfW\n",
            "jKYADQqU\n",
            "NrCYUg\n",
            "QIBNqSu\n",
            "hFEUiO\n",
            "qtMKXWaC\n",
            "SgVKMeF\n",
            "jOnUDEB\n",
            "NVGpxAvL\n",
            "KIenod\n",
            "dKbrHwG\n",
            "lJXIof\n",
            "RygHjTf\n",
            "mqtodn\n",
            "uyCdiEoO\n",
            "irfxQZYE\n",
            "TVlNvci\n",
            "GatPRsg\n",
            "ofvIxtiU\n",
            "ctLGbynl\n",
            "JrbXmQ\n",
            "tmbvDuaq\n",
            "HfDIxTzA\n",
            "DQfJSMGi\n",
            "fzwPRTkB\n",
            "vkCmPulF\n",
            "wGSrqRQF\n",
            "agIcGASl\n",
            "oiPqjpXS\n",
            "VNWTDK\n",
            "nHQbUr\n",
            "sApthz\n",
            "FaEBDjRW\n",
            "QGZTxA\n",
            "uqfOmDcy\n",
            "WoimslQ\n",
            "ECjtil\n",
            "XMLvIxRd\n",
            "KcGqWPio\n",
            "FlPVuQgJ\n",
            "crYiIMGZ\n",
            "AauQXGI\n",
            "NtuZkJ\n",
            "MRANuq\n",
            "DtnfwVOs\n",
            "COVFnXd\n",
            "wVjYelm\n",
            "macOEkZ\n",
            "lGaHALvs\n",
            "BwqEZlQ\n",
            "QYsieH\n",
            "ZiygOnT\n",
            "FlSEVM\n",
            "iMFIxTQ\n",
            "KPjIMWE\n",
            "WicRFu\n",
            "xvrnguC\n",
            "rpGNVEF\n",
            "OmxArs\n",
            "phdXGv\n",
            "yEFATq\n",
            "ryYOcw\n",
            "MGvrpd\n",
            "JGACXkhm\n",
            "sgSUezOY\n",
            "XGVRNch\n",
            "RmXgzb\n",
            "zbLXrJ\n",
            "ryLKxFE\n",
            "SKBLwD\n",
            "zaDMYbj\n",
            "LjcuRqtC\n",
            "okPxMQcu\n",
            "cUQjxu\n",
            "DRXLEpdO\n",
            "KlbLtDn\n",
            "nXwIsYC\n",
            "xefALCns\n",
            "tOgLzs\n",
            "fJvxcgK\n",
            "fUznTL\n",
            "ZsNADpf\n"
          ]
        }
      ]
    },
    {
      "cell_type": "markdown",
      "source": [
        "**Important Concept (change f = 0 again)**"
      ],
      "metadata": {
        "id": "IBs8YI18g_3v"
      }
    },
    {
      "cell_type": "code",
      "source": [
        "for j in range(601, 800):\n",
        "  f = 0\n",
        "  for i in range(2, j//2 + 1):\n",
        "    if j % i == 0:\n",
        "      f = 1\n",
        "      break\n",
        "\n",
        "  if f == 0:\n",
        "    print(j)\n"
      ],
      "metadata": {
        "colab": {
          "base_uri": "https://localhost:8080/"
        },
        "id": "vzpsXs12FMiB",
        "outputId": "39935744-11a0-4acc-80c8-b47f62ceaabc"
      },
      "execution_count": 30,
      "outputs": [
        {
          "output_type": "stream",
          "name": "stdout",
          "text": [
            "601\n",
            "607\n",
            "613\n",
            "617\n",
            "619\n",
            "631\n",
            "641\n",
            "643\n",
            "647\n",
            "653\n",
            "659\n",
            "661\n",
            "673\n",
            "677\n",
            "683\n",
            "691\n",
            "701\n",
            "709\n",
            "719\n",
            "727\n",
            "733\n",
            "739\n",
            "743\n",
            "751\n",
            "757\n",
            "761\n",
            "769\n",
            "773\n",
            "787\n",
            "797\n"
          ]
        }
      ]
    },
    {
      "cell_type": "code",
      "source": [
        "for i in range(101,1000):\n",
        "  if i % 7 == 0 and i % 9 == 0:\n",
        "    print(i)"
      ],
      "metadata": {
        "id": "dFtKqpNMGsk9",
        "outputId": "8db1f4c6-73ac-46d0-fdcd-22eaff89e295",
        "colab": {
          "base_uri": "https://localhost:8080/"
        }
      },
      "execution_count": 31,
      "outputs": [
        {
          "output_type": "stream",
          "name": "stdout",
          "text": [
            "126\n",
            "189\n",
            "252\n",
            "315\n",
            "378\n",
            "441\n",
            "504\n",
            "567\n",
            "630\n",
            "693\n",
            "756\n",
            "819\n",
            "882\n",
            "945\n"
          ]
        }
      ]
    },
    {
      "cell_type": "markdown",
      "source": [
        "5. Ques 5."
      ],
      "metadata": {
        "id": "NBM0eK_ZihPL"
      }
    },
    {
      "cell_type": "code",
      "source": [
        "import random as r\n",
        "L1 = [r.randint(10,30) for i in range(0,10)]\n",
        "print(L1)\n",
        "L2 = [r.randint(10,30) for i in range(0,10)]\n",
        "print(L2)"
      ],
      "metadata": {
        "id": "HJ4jTbG1in9K",
        "outputId": "71c25848-a231-4c43-afd5-47aa2ec00ff9",
        "colab": {
          "base_uri": "https://localhost:8080/"
        }
      },
      "execution_count": 32,
      "outputs": [
        {
          "output_type": "stream",
          "name": "stdout",
          "text": [
            "[14, 14, 23, 24, 22, 30, 16, 14, 22, 29]\n",
            "[22, 27, 24, 20, 17, 21, 10, 29, 12, 11]\n"
          ]
        }
      ]
    },
    {
      "cell_type": "code",
      "source": [
        "S1 = set(L1)\n",
        "S2 = set(L2)"
      ],
      "metadata": {
        "id": "Dv2kG9Abaua-"
      },
      "execution_count": 33,
      "outputs": []
    },
    {
      "cell_type": "code",
      "source": [
        "print(list(S1.intersection(S2)))"
      ],
      "metadata": {
        "id": "qsq__1bYbFgB",
        "outputId": "ca9aeca1-a35c-45dc-ebe0-e10ff985e9b4",
        "colab": {
          "base_uri": "https://localhost:8080/"
        }
      },
      "execution_count": 34,
      "outputs": [
        {
          "output_type": "stream",
          "name": "stdout",
          "text": [
            "[24, 29, 22]\n"
          ]
        }
      ]
    },
    {
      "cell_type": "code",
      "source": [
        "print(list(S1.symmetric_difference(S2)))"
      ],
      "metadata": {
        "id": "26FBAiZ8bWfy",
        "outputId": "aef84552-5b1a-4b62-b3a1-6db740588252",
        "colab": {
          "base_uri": "https://localhost:8080/"
        }
      },
      "execution_count": 35,
      "outputs": [
        {
          "output_type": "stream",
          "name": "stdout",
          "text": [
            "[10, 11, 12, 14, 16, 17, 20, 21, 23, 27, 30]\n"
          ]
        }
      ]
    },
    {
      "cell_type": "code",
      "source": [
        "print(\"Minimum in first list: \", min(L1))\n",
        "print(\"Minimum in first list: \", min(L2))"
      ],
      "metadata": {
        "id": "cQHp11vdbs1-",
        "outputId": "7156a61c-599f-44ef-c5a2-e11a70caf5ff",
        "colab": {
          "base_uri": "https://localhost:8080/"
        }
      },
      "execution_count": 36,
      "outputs": [
        {
          "output_type": "stream",
          "name": "stdout",
          "text": [
            "Minimum in first list:  14\n",
            "Minimum in first list:  10\n"
          ]
        }
      ]
    },
    {
      "cell_type": "code",
      "source": [
        "print(\"Maximum in first list: \", max(L1))\n",
        "print(\"Maximum in first list: \", max(L2))"
      ],
      "metadata": {
        "id": "scxL8qzRP5sl",
        "outputId": "d065fe71-148a-4b7f-cf5a-9dea108bccac",
        "colab": {
          "base_uri": "https://localhost:8080/"
        }
      },
      "execution_count": 37,
      "outputs": [
        {
          "output_type": "stream",
          "name": "stdout",
          "text": [
            "Maximum in first list:  30\n",
            "Maximum in first list:  29\n"
          ]
        }
      ]
    },
    {
      "cell_type": "code",
      "source": [
        "L3 = sum(L1) + sum(L2)\n",
        "print(L3)"
      ],
      "metadata": {
        "id": "yMGWGd7OQN36",
        "outputId": "529ab27e-1105-4f37-811f-6380da957d82",
        "colab": {
          "base_uri": "https://localhost:8080/"
        }
      },
      "execution_count": 39,
      "outputs": [
        {
          "output_type": "stream",
          "name": "stdout",
          "text": [
            "401\n"
          ]
        }
      ]
    },
    {
      "cell_type": "markdown",
      "source": [
        "Ques 6."
      ],
      "metadata": {
        "id": "6-NXUKb7Q9cO"
      }
    },
    {
      "cell_type": "code",
      "source": [
        "L4 = [r.randint(100,900) for i in range(0,100)]\n",
        "print(L4)"
      ],
      "metadata": {
        "id": "BcMccTz5Qa9y",
        "outputId": "9dbd0fde-c473-4115-8a7d-c59e3f895f41",
        "colab": {
          "base_uri": "https://localhost:8080/"
        }
      },
      "execution_count": 42,
      "outputs": [
        {
          "output_type": "stream",
          "name": "stdout",
          "text": [
            "[797, 388, 149, 396, 566, 872, 555, 749, 657, 156, 481, 778, 510, 287, 850, 703, 573, 588, 258, 308, 131, 282, 887, 738, 670, 857, 342, 729, 811, 479, 737, 100, 184, 536, 630, 859, 870, 611, 464, 887, 514, 585, 181, 220, 416, 771, 707, 434, 801, 721, 251, 154, 354, 556, 158, 492, 374, 393, 332, 740, 752, 299, 890, 516, 245, 591, 476, 633, 380, 546, 302, 836, 662, 396, 873, 376, 121, 406, 480, 874, 266, 886, 512, 533, 770, 290, 416, 542, 166, 298, 399, 156, 439, 769, 807, 349, 785, 500, 843, 735]\n"
          ]
        }
      ]
    },
    {
      "cell_type": "code",
      "source": [
        "count_even = 0\n",
        "for ele in L4:\n",
        "  if ele % 2 == 0:\n",
        "    count_even = count_even + 1\n",
        "    print(ele)\n",
        "\n",
        "print(\"The number of even numbers are\", count_even)"
      ],
      "metadata": {
        "id": "39bMQZAHRARj",
        "outputId": "ddf9bd3b-533d-4657-aedd-314b0b381005",
        "colab": {
          "base_uri": "https://localhost:8080/"
        }
      },
      "execution_count": 43,
      "outputs": [
        {
          "output_type": "stream",
          "name": "stdout",
          "text": [
            "388\n",
            "396\n",
            "566\n",
            "872\n",
            "156\n",
            "778\n",
            "510\n",
            "850\n",
            "588\n",
            "258\n",
            "308\n",
            "282\n",
            "738\n",
            "670\n",
            "342\n",
            "100\n",
            "184\n",
            "536\n",
            "630\n",
            "870\n",
            "464\n",
            "514\n",
            "220\n",
            "416\n",
            "434\n",
            "154\n",
            "354\n",
            "556\n",
            "158\n",
            "492\n",
            "374\n",
            "332\n",
            "740\n",
            "752\n",
            "890\n",
            "516\n",
            "476\n",
            "380\n",
            "546\n",
            "302\n",
            "836\n",
            "662\n",
            "396\n",
            "376\n",
            "406\n",
            "480\n",
            "874\n",
            "266\n",
            "886\n",
            "512\n",
            "770\n",
            "290\n",
            "416\n",
            "542\n",
            "166\n",
            "298\n",
            "156\n",
            "500\n",
            "The number of odd numbers are 58\n"
          ]
        }
      ]
    },
    {
      "cell_type": "code",
      "source": [
        "count_odd = 0\n",
        "for ele in L4:\n",
        "  if ele % 2 != 0:\n",
        "    count_odd = count_odd + 1\n",
        "    print(ele)\n",
        "\n",
        "print(\"The number of odd numbers are\", count_odd)"
      ],
      "metadata": {
        "id": "UeyyDzXnSa7A",
        "outputId": "2a83e824-5152-4a11-e783-64f080f36d6b",
        "colab": {
          "base_uri": "https://localhost:8080/"
        }
      },
      "execution_count": 44,
      "outputs": [
        {
          "output_type": "stream",
          "name": "stdout",
          "text": [
            "797\n",
            "149\n",
            "555\n",
            "749\n",
            "657\n",
            "481\n",
            "287\n",
            "703\n",
            "573\n",
            "131\n",
            "887\n",
            "857\n",
            "729\n",
            "811\n",
            "479\n",
            "737\n",
            "859\n",
            "611\n",
            "887\n",
            "585\n",
            "181\n",
            "771\n",
            "707\n",
            "801\n",
            "721\n",
            "251\n",
            "393\n",
            "299\n",
            "245\n",
            "591\n",
            "633\n",
            "873\n",
            "121\n",
            "533\n",
            "399\n",
            "439\n",
            "769\n",
            "807\n",
            "349\n",
            "785\n",
            "843\n",
            "735\n",
            "The number of odd numbers are 42\n"
          ]
        }
      ]
    },
    {
      "cell_type": "code",
      "source": [
        "count_prime = 0\n",
        "for ele in L4:\n",
        "  f = 0\n",
        "  for k in range(2, ele//2 + 1):\n",
        "    if ele % k == 0:\n",
        "      f = 1\n",
        "      break\n",
        "    else:\n",
        "      f = 0\n",
        "\n",
        "  if f == 0:\n",
        "    print(ele)\n",
        "    count_prime = count_prime + 1\n",
        "\n",
        "print(\"The number of prime numbers are\", count_prime)"
      ],
      "metadata": {
        "id": "ei1l-SflSpf3",
        "outputId": "bdafdd0b-13aa-48f1-de4c-22004c61e8ed",
        "colab": {
          "base_uri": "https://localhost:8080/"
        }
      },
      "execution_count": 47,
      "outputs": [
        {
          "output_type": "stream",
          "name": "stdout",
          "text": [
            "797\n",
            "149\n",
            "131\n",
            "887\n",
            "857\n",
            "811\n",
            "479\n",
            "859\n",
            "887\n",
            "181\n",
            "251\n",
            "439\n",
            "769\n",
            "349\n",
            "The number of prime numbers are 14\n"
          ]
        }
      ]
    },
    {
      "cell_type": "markdown",
      "source": [
        "Ques 7."
      ],
      "metadata": {
        "id": "VUJt9nyCV60q"
      }
    },
    {
      "cell_type": "code",
      "source": [
        "D = {1:\"One\", 2:\"Two\", 3:\"Three\", 4:\"Four\", 5:\"Five\"}\n",
        "print(D)"
      ],
      "metadata": {
        "id": "fPp2_7M5Vzvx",
        "outputId": "997b7613-7c50-4743-82bd-0032216ca6d0",
        "colab": {
          "base_uri": "https://localhost:8080/"
        }
      },
      "execution_count": 78,
      "outputs": [
        {
          "output_type": "stream",
          "name": "stdout",
          "text": [
            "{1: 'One', 2: 'Two', 3: 'Three', 4: 'Four', 5: 'Five'}\n"
          ]
        }
      ]
    },
    {
      "cell_type": "code",
      "source": [
        "for i in D.keys():\n",
        "  print(i, \",\", D[i]) # Convert key and value to uing separately and concatenate.\n"
      ],
      "metadata": {
        "id": "Q50NEnRfXODD",
        "outputId": "cbe45ae0-0541-4d5d-e0bb-3b969b87fbfc",
        "colab": {
          "base_uri": "https://localhost:8080/"
        }
      },
      "execution_count": 120,
      "outputs": [
        {
          "output_type": "stream",
          "name": "stdout",
          "text": [
            "1 , One\n",
            "2 , Two\n",
            "3 , Three\n",
            "4 , Four\n",
            "5 , Five\n"
          ]
        }
      ]
    },
    {
      "cell_type": "code",
      "source": [
        "# Alternative\n",
        "import  pandas as pd\n",
        "pd.DataFrame(D.values(), D.keys())"
      ],
      "metadata": {
        "id": "kEvLJbEwWUXn",
        "outputId": "22b2a81b-4b7b-4155-e2c6-512cf2350e63",
        "colab": {
          "base_uri": "https://localhost:8080/",
          "height": 206
        }
      },
      "execution_count": 59,
      "outputs": [
        {
          "output_type": "execute_result",
          "data": {
            "text/plain": [
              "       0\n",
              "1    One\n",
              "2    Two\n",
              "3  Three\n",
              "4   Four\n",
              "5   Five"
            ],
            "text/html": [
              "\n",
              "  <div id=\"df-0bad2034-0c46-42f1-ab60-7001cba68c53\" class=\"colab-df-container\">\n",
              "    <div>\n",
              "<style scoped>\n",
              "    .dataframe tbody tr th:only-of-type {\n",
              "        vertical-align: middle;\n",
              "    }\n",
              "\n",
              "    .dataframe tbody tr th {\n",
              "        vertical-align: top;\n",
              "    }\n",
              "\n",
              "    .dataframe thead th {\n",
              "        text-align: right;\n",
              "    }\n",
              "</style>\n",
              "<table border=\"1\" class=\"dataframe\">\n",
              "  <thead>\n",
              "    <tr style=\"text-align: right;\">\n",
              "      <th></th>\n",
              "      <th>0</th>\n",
              "    </tr>\n",
              "  </thead>\n",
              "  <tbody>\n",
              "    <tr>\n",
              "      <th>1</th>\n",
              "      <td>One</td>\n",
              "    </tr>\n",
              "    <tr>\n",
              "      <th>2</th>\n",
              "      <td>Two</td>\n",
              "    </tr>\n",
              "    <tr>\n",
              "      <th>3</th>\n",
              "      <td>Three</td>\n",
              "    </tr>\n",
              "    <tr>\n",
              "      <th>4</th>\n",
              "      <td>Four</td>\n",
              "    </tr>\n",
              "    <tr>\n",
              "      <th>5</th>\n",
              "      <td>Five</td>\n",
              "    </tr>\n",
              "  </tbody>\n",
              "</table>\n",
              "</div>\n",
              "    <div class=\"colab-df-buttons\">\n",
              "\n",
              "  <div class=\"colab-df-container\">\n",
              "    <button class=\"colab-df-convert\" onclick=\"convertToInteractive('df-0bad2034-0c46-42f1-ab60-7001cba68c53')\"\n",
              "            title=\"Convert this dataframe to an interactive table.\"\n",
              "            style=\"display:none;\">\n",
              "\n",
              "  <svg xmlns=\"http://www.w3.org/2000/svg\" height=\"24px\" viewBox=\"0 -960 960 960\">\n",
              "    <path d=\"M120-120v-720h720v720H120Zm60-500h600v-160H180v160Zm220 220h160v-160H400v160Zm0 220h160v-160H400v160ZM180-400h160v-160H180v160Zm440 0h160v-160H620v160ZM180-180h160v-160H180v160Zm440 0h160v-160H620v160Z\"/>\n",
              "  </svg>\n",
              "    </button>\n",
              "\n",
              "  <style>\n",
              "    .colab-df-container {\n",
              "      display:flex;\n",
              "      gap: 12px;\n",
              "    }\n",
              "\n",
              "    .colab-df-convert {\n",
              "      background-color: #E8F0FE;\n",
              "      border: none;\n",
              "      border-radius: 50%;\n",
              "      cursor: pointer;\n",
              "      display: none;\n",
              "      fill: #1967D2;\n",
              "      height: 32px;\n",
              "      padding: 0 0 0 0;\n",
              "      width: 32px;\n",
              "    }\n",
              "\n",
              "    .colab-df-convert:hover {\n",
              "      background-color: #E2EBFA;\n",
              "      box-shadow: 0px 1px 2px rgba(60, 64, 67, 0.3), 0px 1px 3px 1px rgba(60, 64, 67, 0.15);\n",
              "      fill: #174EA6;\n",
              "    }\n",
              "\n",
              "    .colab-df-buttons div {\n",
              "      margin-bottom: 4px;\n",
              "    }\n",
              "\n",
              "    [theme=dark] .colab-df-convert {\n",
              "      background-color: #3B4455;\n",
              "      fill: #D2E3FC;\n",
              "    }\n",
              "\n",
              "    [theme=dark] .colab-df-convert:hover {\n",
              "      background-color: #434B5C;\n",
              "      box-shadow: 0px 1px 3px 1px rgba(0, 0, 0, 0.15);\n",
              "      filter: drop-shadow(0px 1px 2px rgba(0, 0, 0, 0.3));\n",
              "      fill: #FFFFFF;\n",
              "    }\n",
              "  </style>\n",
              "\n",
              "    <script>\n",
              "      const buttonEl =\n",
              "        document.querySelector('#df-0bad2034-0c46-42f1-ab60-7001cba68c53 button.colab-df-convert');\n",
              "      buttonEl.style.display =\n",
              "        google.colab.kernel.accessAllowed ? 'block' : 'none';\n",
              "\n",
              "      async function convertToInteractive(key) {\n",
              "        const element = document.querySelector('#df-0bad2034-0c46-42f1-ab60-7001cba68c53');\n",
              "        const dataTable =\n",
              "          await google.colab.kernel.invokeFunction('convertToInteractive',\n",
              "                                                    [key], {});\n",
              "        if (!dataTable) return;\n",
              "\n",
              "        const docLinkHtml = 'Like what you see? Visit the ' +\n",
              "          '<a target=\"_blank\" href=https://colab.research.google.com/notebooks/data_table.ipynb>data table notebook</a>'\n",
              "          + ' to learn more about interactive tables.';\n",
              "        element.innerHTML = '';\n",
              "        dataTable['output_type'] = 'display_data';\n",
              "        await google.colab.output.renderOutput(dataTable, element);\n",
              "        const docLink = document.createElement('div');\n",
              "        docLink.innerHTML = docLinkHtml;\n",
              "        element.appendChild(docLink);\n",
              "      }\n",
              "    </script>\n",
              "  </div>\n",
              "\n",
              "\n",
              "<div id=\"df-d0766ea8-ff8a-41b4-8561-37466339a3ac\">\n",
              "  <button class=\"colab-df-quickchart\" onclick=\"quickchart('df-d0766ea8-ff8a-41b4-8561-37466339a3ac')\"\n",
              "            title=\"Suggest charts\"\n",
              "            style=\"display:none;\">\n",
              "\n",
              "<svg xmlns=\"http://www.w3.org/2000/svg\" height=\"24px\"viewBox=\"0 0 24 24\"\n",
              "     width=\"24px\">\n",
              "    <g>\n",
              "        <path d=\"M19 3H5c-1.1 0-2 .9-2 2v14c0 1.1.9 2 2 2h14c1.1 0 2-.9 2-2V5c0-1.1-.9-2-2-2zM9 17H7v-7h2v7zm4 0h-2V7h2v10zm4 0h-2v-4h2v4z\"/>\n",
              "    </g>\n",
              "</svg>\n",
              "  </button>\n",
              "\n",
              "<style>\n",
              "  .colab-df-quickchart {\n",
              "      --bg-color: #E8F0FE;\n",
              "      --fill-color: #1967D2;\n",
              "      --hover-bg-color: #E2EBFA;\n",
              "      --hover-fill-color: #174EA6;\n",
              "      --disabled-fill-color: #AAA;\n",
              "      --disabled-bg-color: #DDD;\n",
              "  }\n",
              "\n",
              "  [theme=dark] .colab-df-quickchart {\n",
              "      --bg-color: #3B4455;\n",
              "      --fill-color: #D2E3FC;\n",
              "      --hover-bg-color: #434B5C;\n",
              "      --hover-fill-color: #FFFFFF;\n",
              "      --disabled-bg-color: #3B4455;\n",
              "      --disabled-fill-color: #666;\n",
              "  }\n",
              "\n",
              "  .colab-df-quickchart {\n",
              "    background-color: var(--bg-color);\n",
              "    border: none;\n",
              "    border-radius: 50%;\n",
              "    cursor: pointer;\n",
              "    display: none;\n",
              "    fill: var(--fill-color);\n",
              "    height: 32px;\n",
              "    padding: 0;\n",
              "    width: 32px;\n",
              "  }\n",
              "\n",
              "  .colab-df-quickchart:hover {\n",
              "    background-color: var(--hover-bg-color);\n",
              "    box-shadow: 0 1px 2px rgba(60, 64, 67, 0.3), 0 1px 3px 1px rgba(60, 64, 67, 0.15);\n",
              "    fill: var(--button-hover-fill-color);\n",
              "  }\n",
              "\n",
              "  .colab-df-quickchart-complete:disabled,\n",
              "  .colab-df-quickchart-complete:disabled:hover {\n",
              "    background-color: var(--disabled-bg-color);\n",
              "    fill: var(--disabled-fill-color);\n",
              "    box-shadow: none;\n",
              "  }\n",
              "\n",
              "  .colab-df-spinner {\n",
              "    border: 2px solid var(--fill-color);\n",
              "    border-color: transparent;\n",
              "    border-bottom-color: var(--fill-color);\n",
              "    animation:\n",
              "      spin 1s steps(1) infinite;\n",
              "  }\n",
              "\n",
              "  @keyframes spin {\n",
              "    0% {\n",
              "      border-color: transparent;\n",
              "      border-bottom-color: var(--fill-color);\n",
              "      border-left-color: var(--fill-color);\n",
              "    }\n",
              "    20% {\n",
              "      border-color: transparent;\n",
              "      border-left-color: var(--fill-color);\n",
              "      border-top-color: var(--fill-color);\n",
              "    }\n",
              "    30% {\n",
              "      border-color: transparent;\n",
              "      border-left-color: var(--fill-color);\n",
              "      border-top-color: var(--fill-color);\n",
              "      border-right-color: var(--fill-color);\n",
              "    }\n",
              "    40% {\n",
              "      border-color: transparent;\n",
              "      border-right-color: var(--fill-color);\n",
              "      border-top-color: var(--fill-color);\n",
              "    }\n",
              "    60% {\n",
              "      border-color: transparent;\n",
              "      border-right-color: var(--fill-color);\n",
              "    }\n",
              "    80% {\n",
              "      border-color: transparent;\n",
              "      border-right-color: var(--fill-color);\n",
              "      border-bottom-color: var(--fill-color);\n",
              "    }\n",
              "    90% {\n",
              "      border-color: transparent;\n",
              "      border-bottom-color: var(--fill-color);\n",
              "    }\n",
              "  }\n",
              "</style>\n",
              "\n",
              "  <script>\n",
              "    async function quickchart(key) {\n",
              "      const quickchartButtonEl =\n",
              "        document.querySelector('#' + key + ' button');\n",
              "      quickchartButtonEl.disabled = true;  // To prevent multiple clicks.\n",
              "      quickchartButtonEl.classList.add('colab-df-spinner');\n",
              "      try {\n",
              "        const charts = await google.colab.kernel.invokeFunction(\n",
              "            'suggestCharts', [key], {});\n",
              "      } catch (error) {\n",
              "        console.error('Error during call to suggestCharts:', error);\n",
              "      }\n",
              "      quickchartButtonEl.classList.remove('colab-df-spinner');\n",
              "      quickchartButtonEl.classList.add('colab-df-quickchart-complete');\n",
              "    }\n",
              "    (() => {\n",
              "      let quickchartButtonEl =\n",
              "        document.querySelector('#df-d0766ea8-ff8a-41b4-8561-37466339a3ac button');\n",
              "      quickchartButtonEl.style.display =\n",
              "        google.colab.kernel.accessAllowed ? 'block' : 'none';\n",
              "    })();\n",
              "  </script>\n",
              "</div>\n",
              "\n",
              "    </div>\n",
              "  </div>\n"
            ],
            "application/vnd.google.colaboratory.intrinsic+json": {
              "type": "dataframe",
              "summary": "{\n  \"name\": \"pd\",\n  \"rows\": 5,\n  \"fields\": [\n    {\n      \"column\": 0,\n      \"properties\": {\n        \"dtype\": \"string\",\n        \"num_unique_values\": 5,\n        \"samples\": [\n          \"Two\",\n          \"Five\",\n          \"Three\"\n        ],\n        \"semantic_type\": \"\",\n        \"description\": \"\"\n      }\n    }\n  ]\n}"
            }
          },
          "metadata": {},
          "execution_count": 59
        }
      ]
    },
    {
      "cell_type": "markdown",
      "source": [
        "Ques 8."
      ],
      "metadata": {
        "id": "6ym3DtYkYXTM"
      }
    },
    {
      "cell_type": "code",
      "source": [
        "L = [\"One\", \"Two\", \"Three\", \"Four\", \"Five\"]\n",
        "print(L)"
      ],
      "metadata": {
        "id": "WdSXWay5YWjc",
        "outputId": "85cb2ef7-b76b-4a42-8c51-f7819c92b06f",
        "colab": {
          "base_uri": "https://localhost:8080/"
        }
      },
      "execution_count": 115,
      "outputs": [
        {
          "output_type": "stream",
          "name": "stdout",
          "text": [
            "['One', 'Two', 'Three', 'Four', 'Five']\n"
          ]
        }
      ]
    },
    {
      "cell_type": "code",
      "source": [
        "for i in range(0,len(L)):\n",
        "  a = len(L[i])\n",
        "  print(L[i] + \",\", a)"
      ],
      "metadata": {
        "id": "rWQ0k_QWraxb",
        "outputId": "ea7b1d66-3326-4f61-ea11-9dcca5e94924",
        "colab": {
          "base_uri": "https://localhost:8080/"
        }
      },
      "execution_count": 118,
      "outputs": [
        {
          "output_type": "stream",
          "name": "stdout",
          "text": [
            "One, 3\n",
            "Two, 3\n",
            "Three, 5\n",
            "Four, 4\n",
            "Five, 4\n"
          ]
        }
      ]
    },
    {
      "cell_type": "code",
      "source": [
        "import random as r\n",
        "import string as s\n",
        "for i in range(0, 100):\n",
        "  k = r.randint(10,15)\n",
        "  st = (r.sample(s.ascii_letters, k))\n",
        "  st = \"\".join(st)\n",
        "  print(st)"
      ],
      "metadata": {
        "id": "yIRIuT2Ysd6E",
        "outputId": "610a4031-3fae-469e-af1f-764aa78631a1",
        "colab": {
          "base_uri": "https://localhost:8080/"
        }
      },
      "execution_count": 124,
      "outputs": [
        {
          "output_type": "stream",
          "name": "stdout",
          "text": [
            "MtvJpEIsrVkwqH\n",
            "kvAPcNYsTdD\n",
            "pGOjDCVotaMSN\n",
            "HxXNTEascO\n",
            "qMUTgrLyISb\n",
            "DrhsgARkLYn\n",
            "fhWEcNGSvqXKVZw\n",
            "QxmRXyzPehbkBC\n",
            "BzKYqnDJOV\n",
            "YqftPuObgZd\n",
            "navTPKQxHplcD\n",
            "ERhfcWrQIzka\n",
            "zCgutZEpNRTY\n",
            "mRNDJHtsCaV\n",
            "eCiTHafXQJZy\n",
            "SLEKaBMGtwZ\n",
            "LiqMgRBtaFf\n",
            "ixfdXWrHTe\n",
            "lFbRrGWSNIs\n",
            "DuqCWzNYZGvPSO\n",
            "iAXDysblxJQvYBj\n",
            "aewEGqzvJXc\n",
            "zXMsKhFRbg\n",
            "CIoTpNmljYDwUz\n",
            "FTwHnSvXftr\n",
            "lfAygsOIWLF\n",
            "RYQXVJuUnPGH\n",
            "OenVWPIcSxi\n",
            "VrKpYJtfWBh\n",
            "ZwjUBINoyQGHT\n",
            "tojwBixRDAfyOp\n",
            "xSXZOqgUuvDVplG\n",
            "WenlLOxirZBTM\n",
            "cTXYlEbzrRmfSD\n",
            "XlwKTzbSOGpm\n",
            "IOjPRMtnDJdmka\n",
            "iRYvJNezgcXyaTM\n",
            "CAOVxhkUnZbIy\n",
            "fxAZpgvkNtOH\n",
            "WCpxzkTweHLR\n",
            "THdFibGIfD\n",
            "dLvaEKsTPQBf\n",
            "YoRCFXkWvyKHJ\n",
            "KyLNbOZJPmSaQo\n",
            "lqLpsiPFCI\n",
            "eUiVmgITDMro\n",
            "ySabYXRPqz\n",
            "ohZMytEUxICd\n",
            "jhMZxPELudTsSw\n",
            "tQmMZwkWNpHo\n",
            "HCkLqGDgXnQcyNE\n",
            "tHWjNkRmbSCLOyA\n",
            "jhsHLkQeRFJuW\n",
            "frnUKbtZPJgcaW\n",
            "qWEYBpFRKDvVG\n",
            "cnsNoBUGZS\n",
            "LWXEUPcsHpTVje\n",
            "wcAklUuYJiFjO\n",
            "xSXdOkFqUKZyQMc\n",
            "PVpNhXrvqEOzUl\n",
            "cjYgBIhdPwMAEn\n",
            "xisquYdbwIKFlW\n",
            "uKyLinEWhl\n",
            "aPTMBzEWGr\n",
            "cDGCupzXIEwTKW\n",
            "IWeVtpSbRLEKcn\n",
            "HhlgwjOKMe\n",
            "QhHLkrPwRniebAf\n",
            "MjmwnhgbflvaYiD\n",
            "lKMwgVpDkEZ\n",
            "atHPxWZeYnKLsh\n",
            "bBvXSHWIahiPuoL\n",
            "aiDQyxVZqYdJjR\n",
            "HGuJvVfioCUhl\n",
            "cyRJANsezpZ\n",
            "fwAjkZGavPDd\n",
            "oSXPqpshLTDO\n",
            "ZoRJtkiPFpD\n",
            "SxYHthkKWmAbP\n",
            "piLIHUXYtSQ\n",
            "frXoYskLOKmFa\n",
            "yfvBZOJFYDjIKT\n",
            "qQpCKUOlVxBwGXn\n",
            "GUaqlTxVBKhd\n",
            "xpFzAkDBweshdR\n",
            "LIuZlKVeCHmJyw\n",
            "MWYsernQcUXxRd\n",
            "wRigQVZOnPcUDa\n",
            "RZtEHfwivdNkSOA\n",
            "cvZJTiPFAhaDl\n",
            "qVpXuzLaKN\n",
            "XqGanyUvCpxQON\n",
            "kqYMlUKeasx\n",
            "mzPNfWwsJYBjQth\n",
            "OtdcFKCbZEJUkTz\n",
            "GocMEpChatwVU\n",
            "XexLnUiOqTsMF\n",
            "vzGhFKUyVX\n",
            "kiHbXGVfBFEN\n",
            "SujXGqakhwLe\n"
          ]
        }
      ]
    },
    {
      "cell_type": "code",
      "source": [
        "for i in range(600, 800):\n",
        "  f = 0\n",
        "  for j in range(2, i//2 + 1):\n",
        "    if i % j == 0:\n",
        "      f = 1\n",
        "      break\n",
        "\n",
        "  if f == 0:\n",
        "    print(i)"
      ],
      "metadata": {
        "id": "yuG3mBamwGTp",
        "outputId": "ede8b02c-e85a-458e-b8e2-6a7317da5018",
        "colab": {
          "base_uri": "https://localhost:8080/"
        }
      },
      "execution_count": 125,
      "outputs": [
        {
          "output_type": "stream",
          "name": "stdout",
          "text": [
            "601\n",
            "607\n",
            "613\n",
            "617\n",
            "619\n",
            "631\n",
            "641\n",
            "643\n",
            "647\n",
            "653\n",
            "659\n",
            "661\n",
            "673\n",
            "677\n",
            "683\n",
            "691\n",
            "701\n",
            "709\n",
            "719\n",
            "727\n",
            "733\n",
            "739\n",
            "743\n",
            "751\n",
            "757\n",
            "761\n",
            "769\n",
            "773\n",
            "787\n",
            "797\n"
          ]
        }
      ]
    },
    {
      "cell_type": "code",
      "source": [
        "import time\n",
        "\n",
        "start_time = time.time()\n",
        "\n",
        "for i in range(600, 800):\n",
        "  f = 0\n",
        "  for j in range(2, i//2 + 1):\n",
        "    if i % j == 0:\n",
        "      f = 1\n",
        "      break\n",
        "\n",
        "  if f == 0:\n",
        "    print(i)\n",
        "\n",
        "end_time = time.time()\n",
        "\n",
        "time_taken = end_time - start_time\n",
        "print(time_taken)"
      ],
      "metadata": {
        "id": "OliP4cOxwsHo",
        "outputId": "02009801-944d-46d1-9d03-a7f1ef8c3102",
        "colab": {
          "base_uri": "https://localhost:8080/"
        }
      },
      "execution_count": 130,
      "outputs": [
        {
          "output_type": "stream",
          "name": "stdout",
          "text": [
            "601\n",
            "607\n",
            "613\n",
            "617\n",
            "619\n",
            "631\n",
            "641\n",
            "643\n",
            "647\n",
            "653\n",
            "659\n",
            "661\n",
            "673\n",
            "677\n",
            "683\n",
            "691\n",
            "701\n",
            "709\n",
            "719\n",
            "727\n",
            "733\n",
            "739\n",
            "743\n",
            "751\n",
            "757\n",
            "761\n",
            "769\n",
            "773\n",
            "787\n",
            "797\n",
            "0.012075662612915039\n"
          ]
        }
      ]
    },
    {
      "cell_type": "code",
      "source": [
        "import time\n",
        "\n",
        "L6 = [[r.randint(0,1000) for i in range(0,5000)],\n",
        "      [r.randint(0,1000) for i in range(0,10000)],\n",
        "      [r.randint(0,1000) for i in range(0,15000)],\n",
        "      [r.randint(0,1000) for i in range(0,20000)],\n",
        "      [r.randint(0,1000) for i in range(0,25000)]]\n",
        "\n",
        "start_time = time.time()\n",
        "\n",
        "for sublist in L6:\n",
        "  sublist.sort()\n",
        "\n",
        "end_time = time.time()\n",
        "\n",
        "time_taken = end_time - start_time\n",
        "print(time_taken)"
      ],
      "metadata": {
        "id": "hsmVbpGuzuXv",
        "outputId": "61055f37-70cd-4ee6-a1b2-6f17e1451631",
        "colab": {
          "base_uri": "https://localhost:8080/"
        }
      },
      "execution_count": 138,
      "outputs": [
        {
          "output_type": "stream",
          "name": "stdout",
          "text": [
            "0.013270378112792969\n"
          ]
        }
      ]
    },
    {
      "cell_type": "code",
      "source": [
        "L7 = [{\"Maths\":50, \"Physics\":90, \"Chemistry\":44, \"Physical_education\":78, \"English\":89},\n",
        "      {\"Maths\":66, \"Physics\":70, \"Chemistry\":84, \"Physical_education\":78, \"English\":69},\n",
        "      {\"Maths\":57, \"Physics\":96, \"Chemistry\":47, \"Physical_education\":18, \"English\":99}]\n",
        "L8 = []\n",
        "for dic in L7:\n",
        "  avg = (sum(dic.values()))/len(dic)\n",
        "  L8.append(avg)\n",
        "\n",
        "print(max(L8))\n",
        "print(min(L8))\n",
        "\n"
      ],
      "metadata": {
        "id": "SaSqjVWR2eIT",
        "outputId": "ecb9d24f-509f-42b7-fc4e-b98154d6849d",
        "colab": {
          "base_uri": "https://localhost:8080/"
        }
      },
      "execution_count": 164,
      "outputs": [
        {
          "output_type": "stream",
          "name": "stdout",
          "text": [
            "73.4\n",
            "63.4\n"
          ]
        }
      ]
    },
    {
      "cell_type": "code",
      "source": [
        "print(len(dic))\n",
        "print(len(dic.keys()))"
      ],
      "metadata": {
        "id": "2G4OHl8W48Ef",
        "outputId": "260e974e-04d9-4085-d378-4c7b018b7607",
        "colab": {
          "base_uri": "https://localhost:8080/"
        }
      },
      "execution_count": 151,
      "outputs": [
        {
          "output_type": "stream",
          "name": "stdout",
          "text": [
            "5\n",
            "5\n"
          ]
        }
      ]
    }
  ]
}